{
 "cells": [
  {
   "cell_type": "code",
   "execution_count": 1,
   "metadata": {},
   "outputs": [],
   "source": [
    "import pandas as pd\n",
    "import numpy as np\n",
    "import seaborn as sns\n",
    "import matplotlib.pyplot as plt"
   ]
  },
  {
   "cell_type": "code",
   "execution_count": 2,
   "metadata": {},
   "outputs": [],
   "source": [
    "fn_reviews = \"tw_tainan_reviews.csv\"\n",
    "fn_restos = \"tw_tainan_restos.csv\"\n",
    "\n",
    "data_reviews = pd.read_csv(fn_reviews)\n",
    "data_restos = pd.read_csv(fn_restos)"
   ]
  },
  {
   "cell_type": "code",
   "execution_count": 3,
   "metadata": {},
   "outputs": [
    {
     "data": {
      "text/html": [
       "<div>\n",
       "<style scoped>\n",
       "    .dataframe tbody tr th:only-of-type {\n",
       "        vertical-align: middle;\n",
       "    }\n",
       "\n",
       "    .dataframe tbody tr th {\n",
       "        vertical-align: top;\n",
       "    }\n",
       "\n",
       "    .dataframe thead th {\n",
       "        text-align: right;\n",
       "    }\n",
       "</style>\n",
       "<table border=\"1\" class=\"dataframe\">\n",
       "  <thead>\n",
       "    <tr style=\"text-align: right;\">\n",
       "      <th></th>\n",
       "      <th>StoreId</th>\n",
       "      <th>CompleteStoreName</th>\n",
       "      <th>FoodType</th>\n",
       "      <th>AverageRating</th>\n",
       "      <th>Reviewers</th>\n",
       "      <th>City</th>\n",
       "    </tr>\n",
       "  </thead>\n",
       "  <tbody>\n",
       "    <tr>\n",
       "      <th>0</th>\n",
       "      <td>zodj</td>\n",
       "      <td>廟口勝鹽水雞（光明店）</td>\n",
       "      <td>小吃</td>\n",
       "      <td>4.8</td>\n",
       "      <td>(100+)</td>\n",
       "      <td>tainan</td>\n",
       "    </tr>\n",
       "    <tr>\n",
       "      <th>1</th>\n",
       "      <td>wzoh</td>\n",
       "      <td>自在軒 (台南東平店)</td>\n",
       "      <td>台式</td>\n",
       "      <td>4.9</td>\n",
       "      <td>(100+)</td>\n",
       "      <td>tainan</td>\n",
       "    </tr>\n",
       "    <tr>\n",
       "      <th>2</th>\n",
       "      <td>u5qk</td>\n",
       "      <td>夫妻肺片麻辣鍋 (台南東和店)</td>\n",
       "      <td>台式</td>\n",
       "      <td>4.6</td>\n",
       "      <td>(100+)</td>\n",
       "      <td>tainan</td>\n",
       "    </tr>\n",
       "    <tr>\n",
       "      <th>3</th>\n",
       "      <td>oiwb</td>\n",
       "      <td>嚥舐麻辣鴨血 (台南東安店)</td>\n",
       "      <td>中式</td>\n",
       "      <td>4.8</td>\n",
       "      <td>(100+)</td>\n",
       "      <td>tainan</td>\n",
       "    </tr>\n",
       "    <tr>\n",
       "      <th>4</th>\n",
       "      <td>x5os</td>\n",
       "      <td>大肥鴨料理店</td>\n",
       "      <td>台式</td>\n",
       "      <td>4.7</td>\n",
       "      <td>(1000+)</td>\n",
       "      <td>tainan</td>\n",
       "    </tr>\n",
       "  </tbody>\n",
       "</table>\n",
       "</div>"
      ],
      "text/plain": [
       "  StoreId CompleteStoreName FoodType  AverageRating Reviewers    City\n",
       "0    zodj       廟口勝鹽水雞（光明店）       小吃            4.8    (100+)  tainan\n",
       "1    wzoh       自在軒 (台南東平店)       台式            4.9    (100+)  tainan\n",
       "2    u5qk   夫妻肺片麻辣鍋 (台南東和店)       台式            4.6    (100+)  tainan\n",
       "3    oiwb    嚥舐麻辣鴨血 (台南東安店)       中式            4.8    (100+)  tainan\n",
       "4    x5os            大肥鴨料理店       台式            4.7   (1000+)  tainan"
      ]
     },
     "execution_count": 3,
     "metadata": {},
     "output_type": "execute_result"
    }
   ],
   "source": [
    "data_restos.head()"
   ]
  },
  {
   "cell_type": "markdown",
   "metadata": {},
   "source": [
    "### StoreId is a primary key"
   ]
  },
  {
   "cell_type": "code",
   "execution_count": 4,
   "metadata": {},
   "outputs": [
    {
     "name": "stdout",
     "output_type": "stream",
     "text": [
      "Unique storeId : 3127 , number of rows 3127\n"
     ]
    }
   ],
   "source": [
    "print(f'Unique storeId : {len(data_restos.StoreId.unique())} , number of rows {len(data_restos.StoreId)}')"
   ]
  },
  {
   "cell_type": "markdown",
   "metadata": {},
   "source": [
    "### Categories of food"
   ]
  },
  {
   "cell_type": "code",
   "execution_count": 5,
   "metadata": {},
   "outputs": [
    {
     "data": {
      "text/plain": [
       "array(['小吃', '台式', '中式', '歐美', '日式', '飲料', '甜點', '咖啡', '健康餐', '異國', '港式',\n",
       "       '韓式', '東南亞', '素食', '早餐'], dtype=object)"
      ]
     },
     "execution_count": 5,
     "metadata": {},
     "output_type": "execute_result"
    }
   ],
   "source": [
    "data_restos.FoodType.unique()"
   ]
  },
  {
   "cell_type": "markdown",
   "metadata": {},
   "source": [
    "Translating the food type into english"
   ]
  },
  {
   "cell_type": "code",
   "execution_count": 6,
   "metadata": {},
   "outputs": [],
   "source": [
    "def chinese_to_english_food_type(col):\n",
    "        if col == \"小吃\":\n",
    "            return \"Snack/Street food\"\n",
    "        elif col == \"台式\":\n",
    "            return \"Taiwanese\"\n",
    "        elif col == \"中式\":\n",
    "            return \"Chinese\"\n",
    "        elif col == \"飲料\":\n",
    "            return \"Drink\"\n",
    "        elif col == \"甜點\":\n",
    "            return \"Pastry\"\n",
    "        elif col == \"咖啡\":\n",
    "            return \"Coffee\"\n",
    "        elif col == \"健康餐\":\n",
    "            return \"Healthy food\"\n",
    "        elif col == \"異國\":\n",
    "            return \"Exotic\"\n",
    "        elif col == \"港式\":\n",
    "            return \"Hong Kong style Dim Sum (snack)\"\n",
    "        elif col == \"韓式\":\n",
    "            return \"Korean\"\n",
    "        elif col == \"東南亞\":\n",
    "            return \"Southeast Asian\"\n",
    "        elif col == \"素食\":\n",
    "            return \"Vegetarian\"\n",
    "        elif col == \"早餐\":\n",
    "            return \"Breakfast\"\n",
    "        else:\n",
    "            return \"Other\""
   ]
  },
  {
   "cell_type": "code",
   "execution_count": 7,
   "metadata": {},
   "outputs": [],
   "source": [
    "data_restos['FoodTypeEng'] = data_restos.FoodType.apply(chinese_to_english_food_type)"
   ]
  },
  {
   "cell_type": "code",
   "execution_count": 8,
   "metadata": {},
   "outputs": [
    {
     "data": {
      "text/html": [
       "<div>\n",
       "<style scoped>\n",
       "    .dataframe tbody tr th:only-of-type {\n",
       "        vertical-align: middle;\n",
       "    }\n",
       "\n",
       "    .dataframe tbody tr th {\n",
       "        vertical-align: top;\n",
       "    }\n",
       "\n",
       "    .dataframe thead th {\n",
       "        text-align: right;\n",
       "    }\n",
       "</style>\n",
       "<table border=\"1\" class=\"dataframe\">\n",
       "  <thead>\n",
       "    <tr style=\"text-align: right;\">\n",
       "      <th></th>\n",
       "      <th>StoreId</th>\n",
       "      <th>CompleteStoreName</th>\n",
       "      <th>FoodType</th>\n",
       "      <th>AverageRating</th>\n",
       "      <th>Reviewers</th>\n",
       "      <th>City</th>\n",
       "      <th>FoodTypeEng</th>\n",
       "    </tr>\n",
       "  </thead>\n",
       "  <tbody>\n",
       "    <tr>\n",
       "      <th>0</th>\n",
       "      <td>zodj</td>\n",
       "      <td>廟口勝鹽水雞（光明店）</td>\n",
       "      <td>小吃</td>\n",
       "      <td>4.8</td>\n",
       "      <td>(100+)</td>\n",
       "      <td>tainan</td>\n",
       "      <td>Snack/Street food</td>\n",
       "    </tr>\n",
       "    <tr>\n",
       "      <th>1</th>\n",
       "      <td>wzoh</td>\n",
       "      <td>自在軒 (台南東平店)</td>\n",
       "      <td>台式</td>\n",
       "      <td>4.9</td>\n",
       "      <td>(100+)</td>\n",
       "      <td>tainan</td>\n",
       "      <td>Taiwanese</td>\n",
       "    </tr>\n",
       "    <tr>\n",
       "      <th>2</th>\n",
       "      <td>u5qk</td>\n",
       "      <td>夫妻肺片麻辣鍋 (台南東和店)</td>\n",
       "      <td>台式</td>\n",
       "      <td>4.6</td>\n",
       "      <td>(100+)</td>\n",
       "      <td>tainan</td>\n",
       "      <td>Taiwanese</td>\n",
       "    </tr>\n",
       "    <tr>\n",
       "      <th>3</th>\n",
       "      <td>oiwb</td>\n",
       "      <td>嚥舐麻辣鴨血 (台南東安店)</td>\n",
       "      <td>中式</td>\n",
       "      <td>4.8</td>\n",
       "      <td>(100+)</td>\n",
       "      <td>tainan</td>\n",
       "      <td>Chinese</td>\n",
       "    </tr>\n",
       "    <tr>\n",
       "      <th>4</th>\n",
       "      <td>x5os</td>\n",
       "      <td>大肥鴨料理店</td>\n",
       "      <td>台式</td>\n",
       "      <td>4.7</td>\n",
       "      <td>(1000+)</td>\n",
       "      <td>tainan</td>\n",
       "      <td>Taiwanese</td>\n",
       "    </tr>\n",
       "  </tbody>\n",
       "</table>\n",
       "</div>"
      ],
      "text/plain": [
       "  StoreId CompleteStoreName FoodType  AverageRating Reviewers    City  \\\n",
       "0    zodj       廟口勝鹽水雞（光明店）       小吃            4.8    (100+)  tainan   \n",
       "1    wzoh       自在軒 (台南東平店)       台式            4.9    (100+)  tainan   \n",
       "2    u5qk   夫妻肺片麻辣鍋 (台南東和店)       台式            4.6    (100+)  tainan   \n",
       "3    oiwb    嚥舐麻辣鴨血 (台南東安店)       中式            4.8    (100+)  tainan   \n",
       "4    x5os            大肥鴨料理店       台式            4.7   (1000+)  tainan   \n",
       "\n",
       "         FoodTypeEng  \n",
       "0  Snack/Street food  \n",
       "1          Taiwanese  \n",
       "2          Taiwanese  \n",
       "3            Chinese  \n",
       "4          Taiwanese  "
      ]
     },
     "execution_count": 8,
     "metadata": {},
     "output_type": "execute_result"
    }
   ],
   "source": [
    "data_restos.head()"
   ]
  },
  {
   "cell_type": "markdown",
   "metadata": {},
   "source": [
    "### How is distributed the types of food"
   ]
  },
  {
   "cell_type": "code",
   "execution_count": 9,
   "metadata": {},
   "outputs": [
    {
     "data": {
      "text/html": [
       "<div>\n",
       "<style scoped>\n",
       "    .dataframe tbody tr th:only-of-type {\n",
       "        vertical-align: middle;\n",
       "    }\n",
       "\n",
       "    .dataframe tbody tr th {\n",
       "        vertical-align: top;\n",
       "    }\n",
       "\n",
       "    .dataframe thead th {\n",
       "        text-align: right;\n",
       "    }\n",
       "</style>\n",
       "<table border=\"1\" class=\"dataframe\">\n",
       "  <thead>\n",
       "    <tr style=\"text-align: right;\">\n",
       "      <th></th>\n",
       "      <th>FoodTypeEng</th>\n",
       "      <th>Count</th>\n",
       "    </tr>\n",
       "  </thead>\n",
       "  <tbody>\n",
       "    <tr>\n",
       "      <th>0</th>\n",
       "      <td>Breakfast</td>\n",
       "      <td>157</td>\n",
       "    </tr>\n",
       "    <tr>\n",
       "      <th>1</th>\n",
       "      <td>Chinese</td>\n",
       "      <td>80</td>\n",
       "    </tr>\n",
       "    <tr>\n",
       "      <th>2</th>\n",
       "      <td>Coffee</td>\n",
       "      <td>40</td>\n",
       "    </tr>\n",
       "    <tr>\n",
       "      <th>3</th>\n",
       "      <td>Drink</td>\n",
       "      <td>336</td>\n",
       "    </tr>\n",
       "    <tr>\n",
       "      <th>4</th>\n",
       "      <td>Exotic</td>\n",
       "      <td>12</td>\n",
       "    </tr>\n",
       "    <tr>\n",
       "      <th>5</th>\n",
       "      <td>Healthy food</td>\n",
       "      <td>68</td>\n",
       "    </tr>\n",
       "    <tr>\n",
       "      <th>6</th>\n",
       "      <td>Hong Kong style Dim Sum (snack)</td>\n",
       "      <td>33</td>\n",
       "    </tr>\n",
       "    <tr>\n",
       "      <th>7</th>\n",
       "      <td>Korean</td>\n",
       "      <td>46</td>\n",
       "    </tr>\n",
       "    <tr>\n",
       "      <th>8</th>\n",
       "      <td>Other</td>\n",
       "      <td>417</td>\n",
       "    </tr>\n",
       "    <tr>\n",
       "      <th>9</th>\n",
       "      <td>Pastry</td>\n",
       "      <td>232</td>\n",
       "    </tr>\n",
       "    <tr>\n",
       "      <th>10</th>\n",
       "      <td>Snack/Street food</td>\n",
       "      <td>423</td>\n",
       "    </tr>\n",
       "    <tr>\n",
       "      <th>11</th>\n",
       "      <td>Southeast Asian</td>\n",
       "      <td>83</td>\n",
       "    </tr>\n",
       "    <tr>\n",
       "      <th>12</th>\n",
       "      <td>Taiwanese</td>\n",
       "      <td>1137</td>\n",
       "    </tr>\n",
       "    <tr>\n",
       "      <th>13</th>\n",
       "      <td>Vegetarian</td>\n",
       "      <td>63</td>\n",
       "    </tr>\n",
       "  </tbody>\n",
       "</table>\n",
       "</div>"
      ],
      "text/plain": [
       "                        FoodTypeEng  Count\n",
       "0                         Breakfast    157\n",
       "1                           Chinese     80\n",
       "2                            Coffee     40\n",
       "3                             Drink    336\n",
       "4                            Exotic     12\n",
       "5                      Healthy food     68\n",
       "6   Hong Kong style Dim Sum (snack)     33\n",
       "7                            Korean     46\n",
       "8                             Other    417\n",
       "9                            Pastry    232\n",
       "10                Snack/Street food    423\n",
       "11                  Southeast Asian     83\n",
       "12                        Taiwanese   1137\n",
       "13                       Vegetarian     63"
      ]
     },
     "execution_count": 9,
     "metadata": {},
     "output_type": "execute_result"
    }
   ],
   "source": [
    "data_restos[['Count']] = 0\n",
    "resto_type_counts = data_restos[['FoodTypeEng', 'Count']].groupby('FoodTypeEng').count().reset_index()\n",
    "resto_type_counts"
   ]
  },
  {
   "cell_type": "code",
   "execution_count": 10,
   "metadata": {},
   "outputs": [
    {
     "data": {
      "text/plain": [
       "Text(0.5, 1.0, 'Count per food type')"
      ]
     },
     "execution_count": 10,
     "metadata": {},
     "output_type": "execute_result"
    },
    {
     "data": {
      "image/png": "[encoded data removed]",
      "text/plain": [
       "<Figure size 640x480 with 1 Axes>"
      ]
     },
     "metadata": {},
     "output_type": "display_data"
    }
   ],
   "source": [
    "ax = resto_type_counts.plot.bar(x='FoodTypeEng')\n",
    "ax.set_title('Count per food type')"
   ]
  },
  {
   "cell_type": "markdown",
   "metadata": {},
   "source": [
    "### Exploring the review dataset"
   ]
  },
  {
   "cell_type": "code",
   "execution_count": 11,
   "metadata": {},
   "outputs": [
    {
     "data": {
      "text/html": [
       "<div>\n",
       "<style scoped>\n",
       "    .dataframe tbody tr th:only-of-type {\n",
       "        vertical-align: middle;\n",
       "    }\n",
       "\n",
       "    .dataframe tbody tr th {\n",
       "        vertical-align: top;\n",
       "    }\n",
       "\n",
       "    .dataframe thead th {\n",
       "        text-align: right;\n",
       "    }\n",
       "</style>\n",
       "<table border=\"1\" class=\"dataframe\">\n",
       "  <thead>\n",
       "    <tr style=\"text-align: right;\">\n",
       "      <th></th>\n",
       "      <th>StoreId</th>\n",
       "      <th>uuid</th>\n",
       "      <th>createdAt</th>\n",
       "      <th>updatedAt</th>\n",
       "      <th>text</th>\n",
       "      <th>isAnonymous</th>\n",
       "      <th>reviewerId</th>\n",
       "      <th>replies</th>\n",
       "      <th>likeCount</th>\n",
       "      <th>isLiked</th>\n",
       "      <th>overall</th>\n",
       "      <th>restaurant_food</th>\n",
       "      <th>rider</th>\n",
       "    </tr>\n",
       "  </thead>\n",
       "  <tbody>\n",
       "    <tr>\n",
       "      <th>0</th>\n",
       "      <td>b9at</td>\n",
       "      <td>000070d0-14b9-4e65-b1be-ceb6f347406d</td>\n",
       "      <td>2023-10-17T05:04:48Z</td>\n",
       "      <td>2023-10-17T05:04:48Z</td>\n",
       "      <td>好好吃啊</td>\n",
       "      <td>False</td>\n",
       "      <td>twook9cx</td>\n",
       "      <td>[]</td>\n",
       "      <td>0</td>\n",
       "      <td>False</td>\n",
       "      <td>5</td>\n",
       "      <td>5</td>\n",
       "      <td>NaN</td>\n",
       "    </tr>\n",
       "    <tr>\n",
       "      <th>1</th>\n",
       "      <td>u446</td>\n",
       "      <td>000340e6-94ca-4ccb-8adb-4b5007554767</td>\n",
       "      <td>2024-02-21T09:32:04Z</td>\n",
       "      <td>2024-02-21T09:32:04Z</td>\n",
       "      <td>必點豬排蛋炒飯 非常好吃，很喜歡！超推薦！</td>\n",
       "      <td>False</td>\n",
       "      <td>twmiv0fs</td>\n",
       "      <td>[]</td>\n",
       "      <td>0</td>\n",
       "      <td>False</td>\n",
       "      <td>5</td>\n",
       "      <td>5</td>\n",
       "      <td>NaN</td>\n",
       "    </tr>\n",
       "    <tr>\n",
       "      <th>2</th>\n",
       "      <td>hgyg</td>\n",
       "      <td>00054e83-10e4-441f-8ccc-022edb2e01f4</td>\n",
       "      <td>2023-08-28T07:16:42Z</td>\n",
       "      <td>2023-08-28T07:16:42Z</td>\n",
       "      <td>炸排骨餐盒裡面怎麼沒有炸排骨？</td>\n",
       "      <td>False</td>\n",
       "      <td>00054e83-10e4-441f-8ccc-022edb2e01f4</td>\n",
       "      <td>[]</td>\n",
       "      <td>0</td>\n",
       "      <td>False</td>\n",
       "      <td>1</td>\n",
       "      <td>1</td>\n",
       "      <td>NaN</td>\n",
       "    </tr>\n",
       "    <tr>\n",
       "      <th>3</th>\n",
       "      <td>ajjd</td>\n",
       "      <td>00062ac2-073d-4f4e-b382-492c9a8c0636</td>\n",
       "      <td>2023-11-20T23:57:27Z</td>\n",
       "      <td>2023-11-20T23:57:27Z</td>\n",
       "      <td>不錯吃 又很香</td>\n",
       "      <td>False</td>\n",
       "      <td>tw09qzfc</td>\n",
       "      <td>[]</td>\n",
       "      <td>0</td>\n",
       "      <td>False</td>\n",
       "      <td>5</td>\n",
       "      <td>5</td>\n",
       "      <td>5.0</td>\n",
       "    </tr>\n",
       "    <tr>\n",
       "      <th>4</th>\n",
       "      <td>z3ui</td>\n",
       "      <td>0007634a-81a3-40bd-9ac2-4326dbf25cd1</td>\n",
       "      <td>2023-08-23T06:35:29Z</td>\n",
       "      <td>2023-08-23T06:35:29Z</td>\n",
       "      <td>希望麵可以在硬一點</td>\n",
       "      <td>False</td>\n",
       "      <td>twrs6wh2</td>\n",
       "      <td>[]</td>\n",
       "      <td>0</td>\n",
       "      <td>False</td>\n",
       "      <td>4</td>\n",
       "      <td>4</td>\n",
       "      <td>NaN</td>\n",
       "    </tr>\n",
       "  </tbody>\n",
       "</table>\n",
       "</div>"
      ],
      "text/plain": [
       "  StoreId                                  uuid             createdAt  \\\n",
       "0    b9at  000070d0-14b9-4e65-b1be-ceb6f347406d  2023-10-17T05:04:48Z   \n",
       "1    u446  000340e6-94ca-4ccb-8adb-4b5007554767  2024-02-21T09:32:04Z   \n",
       "2    hgyg  00054e83-10e4-441f-8ccc-022edb2e01f4  2023-08-28T07:16:42Z   \n",
       "3    ajjd  00062ac2-073d-4f4e-b382-492c9a8c0636  2023-11-20T23:57:27Z   \n",
       "4    z3ui  0007634a-81a3-40bd-9ac2-4326dbf25cd1  2023-08-23T06:35:29Z   \n",
       "\n",
       "              updatedAt                   text  isAnonymous  \\\n",
       "0  2023-10-17T05:04:48Z                   好好吃啊        False   \n",
       "1  2024-02-21T09:32:04Z  必點豬排蛋炒飯 非常好吃，很喜歡！超推薦！        False   \n",
       "2  2023-08-28T07:16:42Z        炸排骨餐盒裡面怎麼沒有炸排骨？        False   \n",
       "3  2023-11-20T23:57:27Z                不錯吃 又很香        False   \n",
       "4  2023-08-23T06:35:29Z              希望麵可以在硬一點        False   \n",
       "\n",
       "                             reviewerId replies  likeCount  isLiked  overall  \\\n",
       "0                              twook9cx      []          0    False        5   \n",
       "1                              twmiv0fs      []          0    False        5   \n",
       "2  00054e83-10e4-441f-8ccc-022edb2e01f4      []          0    False        1   \n",
       "3                              tw09qzfc      []          0    False        5   \n",
       "4                              twrs6wh2      []          0    False        4   \n",
       "\n",
       "   restaurant_food  rider  \n",
       "0                5    NaN  \n",
       "1                5    NaN  \n",
       "2                1    NaN  \n",
       "3                5    5.0  \n",
       "4                4    NaN  "
      ]
     },
     "execution_count": 11,
     "metadata": {},
     "output_type": "execute_result"
    }
   ],
   "source": [
    "data_reviews.head()"
   ]
  },
  {
   "cell_type": "code",
   "execution_count": 12,
   "metadata": {},
   "outputs": [
    {
     "data": {
      "text/plain": [
       "count    3127.000000\n",
       "mean        4.730029\n",
       "std         0.328479\n",
       "min         1.000000\n",
       "25%         4.700000\n",
       "50%         4.800000\n",
       "75%         4.900000\n",
       "max         5.000000\n",
       "Name: AverageRating, dtype: float64"
      ]
     },
     "execution_count": 12,
     "metadata": {},
     "output_type": "execute_result"
    }
   ],
   "source": [
    "data_restos['AverageRating'].describe()"
   ]
  },
  {
   "cell_type": "code",
   "execution_count": 13,
   "metadata": {},
   "outputs": [
    {
     "data": {
      "text/plain": [
       "(array([  3.,   0.,   0.,   0.,   0.,   0.,   0.,   0.,   0.,   0.,   0.,\n",
       "          1.,   0.,   0.,   0.,   0.,   0.,   0.,   1.,   0.,   2.,   0.,\n",
       "          1.,   0.,   1.,   0.,   0.,   0.,   0.,   0.,   3.,   4.,   0.,\n",
       "          2.,   0.,   3.,   0.,  10.,   0.,   5.,   0.,   1.,   0.,   0.,\n",
       "          5.,   0.,   3.,   0.,   4.,   0.,   8.,   0.,  10.,   0.,  11.,\n",
       "          0.,  27.,   0.,  27.,   0.,  30.,  49.,   0.,  68.,   0., 129.,\n",
       "          0., 240.,   0., 510.,   0., 818.,   0., 760., 391.]),\n",
       " array([1.        , 1.05333333, 1.10666667, 1.16      , 1.21333333,\n",
       "        1.26666667, 1.32      , 1.37333333, 1.42666667, 1.48      ,\n",
       "        1.53333333, 1.58666667, 1.64      , 1.69333333, 1.74666667,\n",
       "        1.8       , 1.85333333, 1.90666667, 1.96      , 2.01333333,\n",
       "        2.06666667, 2.12      , 2.17333333, 2.22666667, 2.28      ,\n",
       "        2.33333333, 2.38666667, 2.44      , 2.49333333, 2.54666667,\n",
       "        2.6       , 2.65333333, 2.70666667, 2.76      , 2.81333333,\n",
       "        2.86666667, 2.92      , 2.97333333, 3.02666667, 3.08      ,\n",
       "        3.13333333, 3.18666667, 3.24      , 3.29333333, 3.34666667,\n",
       "        3.4       , 3.45333333, 3.50666667, 3.56      , 3.61333333,\n",
       "        3.66666667, 3.72      , 3.77333333, 3.82666667, 3.88      ,\n",
       "        3.93333333, 3.98666667, 4.04      , 4.09333333, 4.14666667,\n",
       "        4.2       , 4.25333333, 4.30666667, 4.36      , 4.41333333,\n",
       "        4.46666667, 4.52      , 4.57333333, 4.62666667, 4.68      ,\n",
       "        4.73333333, 4.78666667, 4.84      , 4.89333333, 4.94666667,\n",
       "        5.        ]),\n",
       " <BarContainer object of 75 artists>)"
      ]
     },
     "execution_count": 13,
     "metadata": {},
     "output_type": "execute_result"
    },
    {
     "data": {
      "image/png": "[encoded data removed]",
      "text/plain": [
       "<Figure size 640x480 with 1 Axes>"
      ]
     },
     "metadata": {},
     "output_type": "display_data"
    }
   ],
   "source": [
    "import matplotlib.pyplot as plt\n",
    "plt.hist(data_restos['AverageRating'], bins=75)"
   ]
  },
  {
   "cell_type": "code",
   "execution_count": 14,
   "metadata": {},
   "outputs": [
    {
     "name": "stdout",
     "output_type": "stream",
     "text": [
      "Number of restaurants with average reviews > 4.9 stars : 391 / 3127 -> 0.13%\n",
      "Number of restaurants with average reviews > 4.5 stars : 2719 / 3127 -> 0.87%\n",
      "Number of restaurants with average reviews > 4.0 stars : 3022 / 3127 -> 0.97%\n"
     ]
    }
   ],
   "source": [
    "# Percent of reviews with 5 stars\n",
    "star_count1 = data_restos[ data_restos['AverageRating'] > 4.9 ].shape[0]\n",
    "star_count2 = data_restos[ data_restos['AverageRating'] > 4.5 ].shape[0]\n",
    "star_count3 = data_restos[ data_restos['AverageRating'] > 4.0 ].shape[0]\n",
    "\n",
    "\n",
    "total_reviews = data_restos.shape[0]\n",
    "print(f'Number of restaurants with average reviews > 4.9 stars : {star_count1} / {total_reviews} -> {np.around(star_count1/total_reviews,decimals=2)}%')\n",
    "print(f'Number of restaurants with average reviews > 4.5 stars : {star_count2} / {total_reviews} -> {np.around(star_count2/total_reviews,decimals=2)}%')\n",
    "print(f'Number of restaurants with average reviews > 4.0 stars : {star_count3} / {total_reviews} -> {np.around(star_count3/total_reviews,decimals=2)}%')"
   ]
  },
  {
   "cell_type": "markdown",
   "metadata": {},
   "source": [
    "## Number of reviews"
   ]
  },
  {
   "cell_type": "code",
   "execution_count": 15,
   "metadata": {},
   "outputs": [
    {
     "data": {
      "text/plain": [
       "count       3127\n",
       "unique       108\n",
       "top       (100+)\n",
       "freq        1059\n",
       "Name: Reviewers, dtype: object"
      ]
     },
     "execution_count": 15,
     "metadata": {},
     "output_type": "execute_result"
    }
   ],
   "source": [
    "data_restos['Reviewers'].describe()"
   ]
  },
  {
   "cell_type": "code",
   "execution_count": 16,
   "metadata": {},
   "outputs": [
    {
     "data": {
      "text/plain": [
       "array(['(100+)', '(1000+)', '(6)', '(11)', '(500+)', '(16)', '(4)',\n",
       "       '(5000+)', '(37)', '(62)', '(7)', '(20)', '(63)', '(3000+)',\n",
       "       '(30)', '(83)', '(2000+)', '(3)', '(84)', '(40)', '(74)', '(52)',\n",
       "       '(25)', '(15)', '(26)', '(4000+)', '(77)', '(61)', '(17)', '(1)',\n",
       "       '(46)', '(35)', '(42)', '(23)', '(10)', '(91)', '(67)', '(86)',\n",
       "       '(18)', '(69)', '(10000+)', '(80)', '(5)', '(27)', '(41)', '(14)',\n",
       "       '(53)', '(54)', '(2)', '(90)', '(50)', '(87)', '(9)', '(51)',\n",
       "       '(93)', '(56)', '(85)', '(29)', '(38)', '(32)', '(36)', '(76)',\n",
       "       '(97)', '(48)', '(58)', '(99)', '(47)', '(49)', '(64)', '(82)',\n",
       "       '(89)', '(96)', '(24)', '(79)', '(94)', '(21)', '(45)', '(59)',\n",
       "       '(39)', '(55)', '(19)', '(81)', '(13)', '(34)', '(72)', '(71)',\n",
       "       '(65)', '(33)', '(44)', '(88)', '(43)', '(31)', '(92)', '(73)',\n",
       "       '(28)', '(98)', '(8)', '(66)', '(60)', '(78)', '(75)', '(68)',\n",
       "       '(100)', '(12)', '(57)', '(22)', '(95)', '(70)'], dtype=object)"
      ]
     },
     "execution_count": 16,
     "metadata": {},
     "output_type": "execute_result"
    }
   ],
   "source": [
    "data_restos['Reviewers'].unique()"
   ]
  },
  {
   "cell_type": "markdown",
   "metadata": {},
   "source": [
    "## Number of reviews vs average rating"
   ]
  },
  {
   "cell_type": "code",
   "execution_count": 17,
   "metadata": {},
   "outputs": [
    {
     "data": {
      "text/plain": [
       "<matplotlib.collections.PathCollection at 0x7f93401cd790>"
      ]
     },
     "execution_count": 17,
     "metadata": {},
     "output_type": "execute_result"
    },
    {
     "data": {
      "image/png": "[encoded data removed]",
      "text/plain": [
       "<Figure size 640x480 with 1 Axes>"
      ]
     },
     "metadata": {},
     "output_type": "display_data"
    }
   ],
   "source": [
    "plt.scatter(data_restos['AverageRating'], data_restos['Reviewers'])"
   ]
  },
  {
   "cell_type": "markdown",
   "metadata": {},
   "source": [
    "### Heatmap"
   ]
  },
  {
   "cell_type": "code",
   "execution_count": 18,
   "metadata": {},
   "outputs": [
    {
     "data": {
      "text/plain": [
       "Index(['StoreId', 'uuid', 'createdAt', 'updatedAt', 'text', 'isAnonymous',\n",
       "       'reviewerId', 'replies', 'likeCount', 'isLiked', 'overall',\n",
       "       'restaurant_food', 'rider'],\n",
       "      dtype='object')"
      ]
     },
     "execution_count": 18,
     "metadata": {},
     "output_type": "execute_result"
    }
   ],
   "source": [
    "data_reviews.columns"
   ]
  },
  {
   "cell_type": "code",
   "execution_count": 19,
   "metadata": {},
   "outputs": [
    {
     "data": {
      "text/html": [
       "<div>\n",
       "<style scoped>\n",
       "    .dataframe tbody tr th:only-of-type {\n",
       "        vertical-align: middle;\n",
       "    }\n",
       "\n",
       "    .dataframe tbody tr th {\n",
       "        vertical-align: top;\n",
       "    }\n",
       "\n",
       "    .dataframe thead th {\n",
       "        text-align: right;\n",
       "    }\n",
       "</style>\n",
       "<table border=\"1\" class=\"dataframe\">\n",
       "  <thead>\n",
       "    <tr style=\"text-align: right;\">\n",
       "      <th></th>\n",
       "      <th>overall</th>\n",
       "      <th>restaurant_food</th>\n",
       "    </tr>\n",
       "  </thead>\n",
       "  <tbody>\n",
       "    <tr>\n",
       "      <th>0</th>\n",
       "      <td>5</td>\n",
       "      <td>5</td>\n",
       "    </tr>\n",
       "    <tr>\n",
       "      <th>1</th>\n",
       "      <td>5</td>\n",
       "      <td>5</td>\n",
       "    </tr>\n",
       "    <tr>\n",
       "      <th>2</th>\n",
       "      <td>1</td>\n",
       "      <td>1</td>\n",
       "    </tr>\n",
       "    <tr>\n",
       "      <th>3</th>\n",
       "      <td>5</td>\n",
       "      <td>5</td>\n",
       "    </tr>\n",
       "    <tr>\n",
       "      <th>4</th>\n",
       "      <td>4</td>\n",
       "      <td>4</td>\n",
       "    </tr>\n",
       "    <tr>\n",
       "      <th>...</th>\n",
       "      <td>...</td>\n",
       "      <td>...</td>\n",
       "    </tr>\n",
       "    <tr>\n",
       "      <th>52877</th>\n",
       "      <td>5</td>\n",
       "      <td>5</td>\n",
       "    </tr>\n",
       "    <tr>\n",
       "      <th>52878</th>\n",
       "      <td>5</td>\n",
       "      <td>5</td>\n",
       "    </tr>\n",
       "    <tr>\n",
       "      <th>52879</th>\n",
       "      <td>1</td>\n",
       "      <td>1</td>\n",
       "    </tr>\n",
       "    <tr>\n",
       "      <th>52880</th>\n",
       "      <td>1</td>\n",
       "      <td>1</td>\n",
       "    </tr>\n",
       "    <tr>\n",
       "      <th>52881</th>\n",
       "      <td>3</td>\n",
       "      <td>3</td>\n",
       "    </tr>\n",
       "  </tbody>\n",
       "</table>\n",
       "<p>52882 rows × 2 columns</p>\n",
       "</div>"
      ],
      "text/plain": [
       "       overall  restaurant_food\n",
       "0            5                5\n",
       "1            5                5\n",
       "2            1                1\n",
       "3            5                5\n",
       "4            4                4\n",
       "...        ...              ...\n",
       "52877        5                5\n",
       "52878        5                5\n",
       "52879        1                1\n",
       "52880        1                1\n",
       "52881        3                3\n",
       "\n",
       "[52882 rows x 2 columns]"
      ]
     },
     "execution_count": 19,
     "metadata": {},
     "output_type": "execute_result"
    }
   ],
   "source": [
    "tmp_df = data_reviews[['overall', 'restaurant_food']]\n",
    "tmp_df"
   ]
  },
  {
   "cell_type": "code",
   "execution_count": 20,
   "metadata": {},
   "outputs": [
    {
     "data": {
      "text/html": [
       "<div>\n",
       "<style scoped>\n",
       "    .dataframe tbody tr th:only-of-type {\n",
       "        vertical-align: middle;\n",
       "    }\n",
       "\n",
       "    .dataframe tbody tr th {\n",
       "        vertical-align: top;\n",
       "    }\n",
       "\n",
       "    .dataframe thead th {\n",
       "        text-align: right;\n",
       "    }\n",
       "</style>\n",
       "<table border=\"1\" class=\"dataframe\">\n",
       "  <thead>\n",
       "    <tr style=\"text-align: right;\">\n",
       "      <th></th>\n",
       "      <th>overall</th>\n",
       "      <th>restaurant_food</th>\n",
       "    </tr>\n",
       "  </thead>\n",
       "  <tbody>\n",
       "    <tr>\n",
       "      <th>overall</th>\n",
       "      <td>1.0</td>\n",
       "      <td>1.0</td>\n",
       "    </tr>\n",
       "    <tr>\n",
       "      <th>restaurant_food</th>\n",
       "      <td>1.0</td>\n",
       "      <td>1.0</td>\n",
       "    </tr>\n",
       "  </tbody>\n",
       "</table>\n",
       "</div>"
      ],
      "text/plain": [
       "                 overall  restaurant_food\n",
       "overall              1.0              1.0\n",
       "restaurant_food      1.0              1.0"
      ]
     },
     "execution_count": 20,
     "metadata": {},
     "output_type": "execute_result"
    }
   ],
   "source": [
    "tmp_df = tmp_df.corr()\n",
    "tmp_df"
   ]
  },
  {
   "cell_type": "code",
   "execution_count": 21,
   "metadata": {},
   "outputs": [
    {
     "data": {
      "text/plain": [
       "<AxesSubplot:>"
      ]
     },
     "execution_count": 21,
     "metadata": {},
     "output_type": "execute_result"
    },
    {
     "data": {
      "image/png": "[encoded data removed]",
      "text/plain": [
       "<Figure size 640x480 with 2 Axes>"
      ]
     },
     "metadata": {},
     "output_type": "display_data"
    }
   ],
   "source": [
    "sns.heatmap(tmp_df, annot=True)"
   ]
  },
  {
   "cell_type": "markdown",
   "metadata": {},
   "source": [
    "Column `restaurant food` and `overall` equals."
   ]
  },
  {
   "cell_type": "markdown",
   "metadata": {},
   "source": [
    "### Proportion of anonymous reviews "
   ]
  },
  {
   "cell_type": "code",
   "execution_count": 22,
   "metadata": {},
   "outputs": [
    {
     "data": {
      "text/plain": [
       "0"
      ]
     },
     "execution_count": 22,
     "metadata": {},
     "output_type": "execute_result"
    }
   ],
   "source": [
    "n = data_reviews.shape[0]\n",
    "anonymous_count = np.sum(data_reviews.isAnonymous.values)\n",
    "anonymous_count"
   ]
  },
  {
   "cell_type": "code",
   "execution_count": 23,
   "metadata": {},
   "outputs": [
    {
     "data": {
      "text/html": [
       "<div>\n",
       "<style scoped>\n",
       "    .dataframe tbody tr th:only-of-type {\n",
       "        vertical-align: middle;\n",
       "    }\n",
       "\n",
       "    .dataframe tbody tr th {\n",
       "        vertical-align: top;\n",
       "    }\n",
       "\n",
       "    .dataframe thead th {\n",
       "        text-align: right;\n",
       "    }\n",
       "</style>\n",
       "<table border=\"1\" class=\"dataframe\">\n",
       "  <thead>\n",
       "    <tr style=\"text-align: right;\">\n",
       "      <th></th>\n",
       "      <th>StoreId</th>\n",
       "      <th>uuid</th>\n",
       "      <th>createdAt</th>\n",
       "      <th>updatedAt</th>\n",
       "      <th>text</th>\n",
       "      <th>isAnonymous</th>\n",
       "      <th>reviewerId</th>\n",
       "      <th>replies</th>\n",
       "      <th>likeCount</th>\n",
       "      <th>isLiked</th>\n",
       "      <th>overall</th>\n",
       "      <th>restaurant_food</th>\n",
       "      <th>rider</th>\n",
       "    </tr>\n",
       "  </thead>\n",
       "  <tbody>\n",
       "  </tbody>\n",
       "</table>\n",
       "</div>"
      ],
      "text/plain": [
       "Empty DataFrame\n",
       "Columns: [StoreId, uuid, createdAt, updatedAt, text, isAnonymous, reviewerId, replies, likeCount, isLiked, overall, restaurant_food, rider]\n",
       "Index: []"
      ]
     },
     "execution_count": 23,
     "metadata": {},
     "output_type": "execute_result"
    }
   ],
   "source": [
    "data_reviews[data_reviews[\"isAnonymous\"] == True]"
   ]
  },
  {
   "cell_type": "markdown",
   "metadata": {},
   "source": [
    "There is no anonymous reviews. This column is not useful.\n"
   ]
  },
  {
   "cell_type": "markdown",
   "metadata": {},
   "source": [
    "### Like count\n",
    "\n",
    "What are the top `liked` reviews ?"
   ]
  },
  {
   "cell_type": "code",
   "execution_count": 47,
   "metadata": {},
   "outputs": [
    {
     "data": {
      "text/plain": [
       "count    52882.000000\n",
       "mean         0.147820\n",
       "std          0.446987\n",
       "min          0.000000\n",
       "25%          0.000000\n",
       "50%          0.000000\n",
       "75%          0.000000\n",
       "max         15.000000\n",
       "Name: likeCount, dtype: float64"
      ]
     },
     "execution_count": 47,
     "metadata": {},
     "output_type": "execute_result"
    }
   ],
   "source": [
    "data_reviews.likeCount.describe()"
   ]
  },
  {
   "cell_type": "code",
   "execution_count": 29,
   "metadata": {},
   "outputs": [
    {
     "data": {
      "text/html": [
       "<div>\n",
       "<style scoped>\n",
       "    .dataframe tbody tr th:only-of-type {\n",
       "        vertical-align: middle;\n",
       "    }\n",
       "\n",
       "    .dataframe tbody tr th {\n",
       "        vertical-align: top;\n",
       "    }\n",
       "\n",
       "    .dataframe thead th {\n",
       "        text-align: right;\n",
       "    }\n",
       "</style>\n",
       "<table border=\"1\" class=\"dataframe\">\n",
       "  <thead>\n",
       "    <tr style=\"text-align: right;\">\n",
       "      <th></th>\n",
       "      <th>StoreId</th>\n",
       "      <th>uuid</th>\n",
       "      <th>createdAt</th>\n",
       "      <th>updatedAt</th>\n",
       "      <th>text</th>\n",
       "      <th>isAnonymous</th>\n",
       "      <th>reviewerId</th>\n",
       "      <th>replies</th>\n",
       "      <th>likeCount</th>\n",
       "      <th>isLiked</th>\n",
       "      <th>overall</th>\n",
       "      <th>restaurant_food</th>\n",
       "      <th>rider</th>\n",
       "    </tr>\n",
       "  </thead>\n",
       "  <tbody>\n",
       "    <tr>\n",
       "      <th>0</th>\n",
       "      <td>b9at</td>\n",
       "      <td>000070d0-14b9-4e65-b1be-ceb6f347406d</td>\n",
       "      <td>2023-10-17T05:04:48Z</td>\n",
       "      <td>2023-10-17T05:04:48Z</td>\n",
       "      <td>好好吃啊</td>\n",
       "      <td>False</td>\n",
       "      <td>twook9cx</td>\n",
       "      <td>[]</td>\n",
       "      <td>0</td>\n",
       "      <td>False</td>\n",
       "      <td>5</td>\n",
       "      <td>5</td>\n",
       "      <td>NaN</td>\n",
       "    </tr>\n",
       "    <tr>\n",
       "      <th>1</th>\n",
       "      <td>u446</td>\n",
       "      <td>000340e6-94ca-4ccb-8adb-4b5007554767</td>\n",
       "      <td>2024-02-21T09:32:04Z</td>\n",
       "      <td>2024-02-21T09:32:04Z</td>\n",
       "      <td>必點豬排蛋炒飯 非常好吃，很喜歡！超推薦！</td>\n",
       "      <td>False</td>\n",
       "      <td>twmiv0fs</td>\n",
       "      <td>[]</td>\n",
       "      <td>0</td>\n",
       "      <td>False</td>\n",
       "      <td>5</td>\n",
       "      <td>5</td>\n",
       "      <td>NaN</td>\n",
       "    </tr>\n",
       "    <tr>\n",
       "      <th>2</th>\n",
       "      <td>hgyg</td>\n",
       "      <td>00054e83-10e4-441f-8ccc-022edb2e01f4</td>\n",
       "      <td>2023-08-28T07:16:42Z</td>\n",
       "      <td>2023-08-28T07:16:42Z</td>\n",
       "      <td>炸排骨餐盒裡面怎麼沒有炸排骨？</td>\n",
       "      <td>False</td>\n",
       "      <td>00054e83-10e4-441f-8ccc-022edb2e01f4</td>\n",
       "      <td>[]</td>\n",
       "      <td>0</td>\n",
       "      <td>False</td>\n",
       "      <td>1</td>\n",
       "      <td>1</td>\n",
       "      <td>NaN</td>\n",
       "    </tr>\n",
       "    <tr>\n",
       "      <th>3</th>\n",
       "      <td>ajjd</td>\n",
       "      <td>00062ac2-073d-4f4e-b382-492c9a8c0636</td>\n",
       "      <td>2023-11-20T23:57:27Z</td>\n",
       "      <td>2023-11-20T23:57:27Z</td>\n",
       "      <td>不錯吃 又很香</td>\n",
       "      <td>False</td>\n",
       "      <td>tw09qzfc</td>\n",
       "      <td>[]</td>\n",
       "      <td>0</td>\n",
       "      <td>False</td>\n",
       "      <td>5</td>\n",
       "      <td>5</td>\n",
       "      <td>5.0</td>\n",
       "    </tr>\n",
       "    <tr>\n",
       "      <th>4</th>\n",
       "      <td>z3ui</td>\n",
       "      <td>0007634a-81a3-40bd-9ac2-4326dbf25cd1</td>\n",
       "      <td>2023-08-23T06:35:29Z</td>\n",
       "      <td>2023-08-23T06:35:29Z</td>\n",
       "      <td>希望麵可以在硬一點</td>\n",
       "      <td>False</td>\n",
       "      <td>twrs6wh2</td>\n",
       "      <td>[]</td>\n",
       "      <td>0</td>\n",
       "      <td>False</td>\n",
       "      <td>4</td>\n",
       "      <td>4</td>\n",
       "      <td>NaN</td>\n",
       "    </tr>\n",
       "  </tbody>\n",
       "</table>\n",
       "</div>"
      ],
      "text/plain": [
       "  StoreId                                  uuid             createdAt  \\\n",
       "0    b9at  000070d0-14b9-4e65-b1be-ceb6f347406d  2023-10-17T05:04:48Z   \n",
       "1    u446  000340e6-94ca-4ccb-8adb-4b5007554767  2024-02-21T09:32:04Z   \n",
       "2    hgyg  00054e83-10e4-441f-8ccc-022edb2e01f4  2023-08-28T07:16:42Z   \n",
       "3    ajjd  00062ac2-073d-4f4e-b382-492c9a8c0636  2023-11-20T23:57:27Z   \n",
       "4    z3ui  0007634a-81a3-40bd-9ac2-4326dbf25cd1  2023-08-23T06:35:29Z   \n",
       "\n",
       "              updatedAt                   text  isAnonymous  \\\n",
       "0  2023-10-17T05:04:48Z                   好好吃啊        False   \n",
       "1  2024-02-21T09:32:04Z  必點豬排蛋炒飯 非常好吃，很喜歡！超推薦！        False   \n",
       "2  2023-08-28T07:16:42Z        炸排骨餐盒裡面怎麼沒有炸排骨？        False   \n",
       "3  2023-11-20T23:57:27Z                不錯吃 又很香        False   \n",
       "4  2023-08-23T06:35:29Z              希望麵可以在硬一點        False   \n",
       "\n",
       "                             reviewerId replies  likeCount  isLiked  overall  \\\n",
       "0                              twook9cx      []          0    False        5   \n",
       "1                              twmiv0fs      []          0    False        5   \n",
       "2  00054e83-10e4-441f-8ccc-022edb2e01f4      []          0    False        1   \n",
       "3                              tw09qzfc      []          0    False        5   \n",
       "4                              twrs6wh2      []          0    False        4   \n",
       "\n",
       "   restaurant_food  rider  \n",
       "0                5    NaN  \n",
       "1                5    NaN  \n",
       "2                1    NaN  \n",
       "3                5    5.0  \n",
       "4                4    NaN  "
      ]
     },
     "execution_count": 29,
     "metadata": {},
     "output_type": "execute_result"
    }
   ],
   "source": [
    "data_reviews.head()"
   ]
  },
  {
   "cell_type": "code",
   "execution_count": 41,
   "metadata": {},
   "outputs": [
    {
     "data": {
      "text/html": [
       "<div>\n",
       "<style scoped>\n",
       "    .dataframe tbody tr th:only-of-type {\n",
       "        vertical-align: middle;\n",
       "    }\n",
       "\n",
       "    .dataframe tbody tr th {\n",
       "        vertical-align: top;\n",
       "    }\n",
       "\n",
       "    .dataframe thead th {\n",
       "        text-align: right;\n",
       "    }\n",
       "</style>\n",
       "<table border=\"1\" class=\"dataframe\">\n",
       "  <thead>\n",
       "    <tr style=\"text-align: right;\">\n",
       "      <th></th>\n",
       "      <th>StoreId</th>\n",
       "      <th>uuid</th>\n",
       "      <th>createdAt</th>\n",
       "      <th>updatedAt</th>\n",
       "      <th>text</th>\n",
       "      <th>isAnonymous</th>\n",
       "      <th>reviewerId</th>\n",
       "      <th>replies</th>\n",
       "      <th>likeCount</th>\n",
       "      <th>isLiked</th>\n",
       "      <th>overall</th>\n",
       "      <th>restaurant_food</th>\n",
       "      <th>rider</th>\n",
       "    </tr>\n",
       "  </thead>\n",
       "  <tbody>\n",
       "    <tr>\n",
       "      <th>4186</th>\n",
       "      <td>j3gj</td>\n",
       "      <td>14830051-a927-4a7c-b8d2-d51dd6ed4a63</td>\n",
       "      <td>2023-04-10T14:44:27Z</td>\n",
       "      <td>2023-04-10T14:44:27Z</td>\n",
       "      <td>為何點麵必選選單裡面選麵需要加錢，米粉換飯它類不用錢這樣還算牛肉麵嗎？ 點了一碗牛肉麵結果還...</td>\n",
       "      <td>False</td>\n",
       "      <td>twivh9zm</td>\n",
       "      <td>[]</td>\n",
       "      <td>15</td>\n",
       "      <td>False</td>\n",
       "      <td>3</td>\n",
       "      <td>3</td>\n",
       "      <td>4.0</td>\n",
       "    </tr>\n",
       "    <tr>\n",
       "      <th>48902</th>\n",
       "      <td>aw8s</td>\n",
       "      <td>ed14fa1c-e90c-4a6c-a6a2-4ea931a9e7d4</td>\n",
       "      <td>2023-05-03T18:27:07Z</td>\n",
       "      <td>2023-05-03T18:27:07Z</td>\n",
       "      <td>先說結論，我是盤子，同類型宵夜可以直接移駕禿頭老爹。\\n首先老闆可能不太理解滑蛋的意思，\\n...</td>\n",
       "      <td>False</td>\n",
       "      <td>ed14fa1c-e90c-4a6c-a6a2-4ea931a9e7d4</td>\n",
       "      <td>[]</td>\n",
       "      <td>12</td>\n",
       "      <td>False</td>\n",
       "      <td>1</td>\n",
       "      <td>1</td>\n",
       "      <td>1.0</td>\n",
       "    </tr>\n",
       "    <tr>\n",
       "      <th>52675</th>\n",
       "      <td>l1ob</td>\n",
       "      <td>ff0252f8-3e86-47aa-960c-3d7494fae9df</td>\n",
       "      <td>2023-04-07T10:12:42Z</td>\n",
       "      <td>2023-04-07T10:12:42Z</td>\n",
       "      <td>竟然沒有主菜！全都是生菜！炸騙集團！圖文不符！</td>\n",
       "      <td>False</td>\n",
       "      <td>twlpq4cd</td>\n",
       "      <td>[]</td>\n",
       "      <td>8</td>\n",
       "      <td>False</td>\n",
       "      <td>1</td>\n",
       "      <td>1</td>\n",
       "      <td>5.0</td>\n",
       "    </tr>\n",
       "    <tr>\n",
       "      <th>24402</th>\n",
       "      <td>dmsf</td>\n",
       "      <td>76517f28-cf85-479a-b25a-7c340096e9ba</td>\n",
       "      <td>2023-04-14T14:56:45Z</td>\n",
       "      <td>2023-04-14T14:56:45Z</td>\n",
       "      <td>肉比我阿公做完化療的頭髮還要少 不要點牛肉湯🙄</td>\n",
       "      <td>False</td>\n",
       "      <td>twzok7zn</td>\n",
       "      <td>[]</td>\n",
       "      <td>8</td>\n",
       "      <td>False</td>\n",
       "      <td>1</td>\n",
       "      <td>1</td>\n",
       "      <td>3.0</td>\n",
       "    </tr>\n",
       "    <tr>\n",
       "      <th>3852</th>\n",
       "      <td>x5vt</td>\n",
       "      <td>12d17664-a90e-4691-8500-dd53947216f9</td>\n",
       "      <td>2023-07-11T05:06:01Z</td>\n",
       "      <td>2023-07-11T05:06:01Z</td>\n",
       "      <td>雞肉飯一份50塊還大份的\\n這雞肉的量也太少了吧香油也沒很多\\n要賺錢也不是這樣賺的吧</td>\n",
       "      <td>False</td>\n",
       "      <td>twpy4trs</td>\n",
       "      <td>[]</td>\n",
       "      <td>7</td>\n",
       "      <td>False</td>\n",
       "      <td>1</td>\n",
       "      <td>1</td>\n",
       "      <td>NaN</td>\n",
       "    </tr>\n",
       "  </tbody>\n",
       "</table>\n",
       "</div>"
      ],
      "text/plain": [
       "      StoreId                                  uuid             createdAt  \\\n",
       "4186     j3gj  14830051-a927-4a7c-b8d2-d51dd6ed4a63  2023-04-10T14:44:27Z   \n",
       "48902    aw8s  ed14fa1c-e90c-4a6c-a6a2-4ea931a9e7d4  2023-05-03T18:27:07Z   \n",
       "52675    l1ob  ff0252f8-3e86-47aa-960c-3d7494fae9df  2023-04-07T10:12:42Z   \n",
       "24402    dmsf  76517f28-cf85-479a-b25a-7c340096e9ba  2023-04-14T14:56:45Z   \n",
       "3852     x5vt  12d17664-a90e-4691-8500-dd53947216f9  2023-07-11T05:06:01Z   \n",
       "\n",
       "                  updatedAt  \\\n",
       "4186   2023-04-10T14:44:27Z   \n",
       "48902  2023-05-03T18:27:07Z   \n",
       "52675  2023-04-07T10:12:42Z   \n",
       "24402  2023-04-14T14:56:45Z   \n",
       "3852   2023-07-11T05:06:01Z   \n",
       "\n",
       "                                                    text  isAnonymous  \\\n",
       "4186   為何點麵必選選單裡面選麵需要加錢，米粉換飯它類不用錢這樣還算牛肉麵嗎？ 點了一碗牛肉麵結果還...        False   \n",
       "48902  先說結論，我是盤子，同類型宵夜可以直接移駕禿頭老爹。\\n首先老闆可能不太理解滑蛋的意思，\\n...        False   \n",
       "52675                            竟然沒有主菜！全都是生菜！炸騙集團！圖文不符！        False   \n",
       "24402                            肉比我阿公做完化療的頭髮還要少 不要點牛肉湯🙄        False   \n",
       "3852         雞肉飯一份50塊還大份的\\n這雞肉的量也太少了吧香油也沒很多\\n要賺錢也不是這樣賺的吧        False   \n",
       "\n",
       "                                 reviewerId replies  likeCount  isLiked  \\\n",
       "4186                               twivh9zm      []         15    False   \n",
       "48902  ed14fa1c-e90c-4a6c-a6a2-4ea931a9e7d4      []         12    False   \n",
       "52675                              twlpq4cd      []          8    False   \n",
       "24402                              twzok7zn      []          8    False   \n",
       "3852                               twpy4trs      []          7    False   \n",
       "\n",
       "       overall  restaurant_food  rider  \n",
       "4186         3                3    4.0  \n",
       "48902        1                1    1.0  \n",
       "52675        1                1    5.0  \n",
       "24402        1                1    3.0  \n",
       "3852         1                1    NaN  "
      ]
     },
     "execution_count": 41,
     "metadata": {},
     "output_type": "execute_result"
    }
   ],
   "source": [
    "data_reviews.sort_values(by=['likeCount'], ascending=False).head(5)"
   ]
  },
  {
   "cell_type": "markdown",
   "metadata": {},
   "source": [
    "Mean of the review ratings for the top liked comments, compared to the global average"
   ]
  },
  {
   "cell_type": "code",
   "execution_count": 42,
   "metadata": {},
   "outputs": [
    {
     "name": "stdout",
     "output_type": "stream",
     "text": [
      "Average ratings for the top five liked reviews : 1.4\n",
      "Average ratings for the top ten liked reviews : 2.8\n",
      "Average ratings for the top tweenty liked reviews : 3.75\n",
      "Average ratings for all dataset: 3.996085624598162\n"
     ]
    }
   ],
   "source": [
    "top_5_mean = np.mean(data_reviews.sort_values(by=['likeCount'], ascending=False).head(5).overall)\n",
    "top_10_mean = np.mean(data_reviews.sort_values(by=['likeCount'], ascending=False).head(10).overall)\n",
    "top_20_mean = np.mean(data_reviews.sort_values(by=['likeCount'], ascending=False).head(20).overall)\n",
    "mean_all = np.mean(data_reviews.overall)\n",
    "print(f'Average ratings for the top five liked reviews : {top_5_mean}')\n",
    "print(f'Average ratings for the top ten liked reviews : {top_10_mean}')\n",
    "print(f'Average ratings for the top tweenty liked reviews : {top_20_mean}')\n",
    "print(f'Average ratings for all dataset: {mean_all}')"
   ]
  },
  {
   "cell_type": "markdown",
   "metadata": {},
   "source": [
    "The top most liked reviews tend to have a lower rating."
   ]
  },
  {
   "cell_type": "code",
   "execution_count": 46,
   "metadata": {},
   "outputs": [
    {
     "data": {
      "text/plain": [
       "Text(0.5, 1.0, 'Count per food type')"
      ]
     },
     "execution_count": 46,
     "metadata": {},
     "output_type": "execute_result"
    },
    {
     "data": {
      "image/png": "[encoded data removed]",
      "text/plain": [
       "<Figure size 640x480 with 1 Axes>"
      ]
     },
     "metadata": {},
     "output_type": "display_data"
    }
   ],
   "source": [
    "ax = data_reviews.sort_values(by=['likeCount'], ascending=False).head(20).plot.bar(y='likeCount', x='overall')\n",
    "ax.set_title('Count per food type')"
   ]
  },
  {
   "cell_type": "markdown",
   "metadata": {},
   "source": [
    "If we look at the distribution of the top 20 most liked reviews, we observe that the reviews having more than 5 `like` are likely to have lower rating, but this trend stops at 5 `like`."
   ]
  },
  {
   "cell_type": "markdown",
   "metadata": {},
   "source": [
    "#### How many reviews have 5 `like` ?"
   ]
  },
  {
   "cell_type": "code",
   "execution_count": 51,
   "metadata": {},
   "outputs": [
    {
     "name": "stdout",
     "output_type": "stream",
     "text": [
      "11 have exactly 5 `likes`, with a rating mean of 4.7272727272727275\n"
     ]
    }
   ],
   "source": [
    "sub_data = data_reviews[ data_reviews.likeCount == 5]\n",
    "count_5_liked = sub_data.shape[0]\n",
    "mean_5_liked = np.mean(sub_data.overall)\n",
    "print(f'{count_5_liked} have exactly 5 `likes`, with a rating mean of {mean_5_liked}')\n"
   ]
  }
 ],
 "metadata": {
  "kernelspec": {
   "display_name": "base",
   "language": "python",
   "name": "python3"
  },
  "language_info": {
   "codemirror_mode": {
    "name": "ipython",
    "version": 3
   },
   "file_extension": ".py",
   "mimetype": "text/x-python",
   "name": "python",
   "nbconvert_exporter": "python",
   "pygments_lexer": "ipython3",
   "version": "3.9.13"
  }
 },
 "nbformat": 4,
 "nbformat_minor": 2
}
